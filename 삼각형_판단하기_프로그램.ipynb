{
  "nbformat": 4,
  "nbformat_minor": 0,
  "metadata": {
    "colab": {
      "provenance": [],
      "authorship_tag": "ABX9TyPe3ttsELVPQ4dsZ1PyCuDb",
      "include_colab_link": true
    },
    "kernelspec": {
      "name": "python3",
      "display_name": "Python 3"
    },
    "language_info": {
      "name": "python"
    }
  },
  "cells": [
    {
      "cell_type": "markdown",
      "metadata": {
        "id": "view-in-github",
        "colab_type": "text"
      },
      "source": [
        "<a href=\"https://colab.research.google.com/github/pxyami/react/blob/main/%EC%82%BC%EA%B0%81%ED%98%95_%ED%8C%90%EB%8B%A8%ED%95%98%EA%B8%B0_%ED%94%84%EB%A1%9C%EA%B7%B8%EB%9E%A8.ipynb\" target=\"_parent\"><img src=\"https://colab.research.google.com/assets/colab-badge.svg\" alt=\"Open In Colab\"/></a>"
      ]
    },
    {
      "cell_type": "markdown",
      "source": [
        "# 삼각형 판단하기\n",
        "\n",
        "본 수업에서는 **삼각형의 세 변의 길이** 를 받아서 어떠한 삼각형인지를 판단하여 알려주는 프로그램을 개발합니다.\n",
        "\n",
        "$ a = b = c $ 정삼각형 🔽\n",
        "\n",
        "본 프로그램은 사용자로부터 3개의 입력을 받습니다."
      ],
      "metadata": {
        "id": "KftblVlqxj0J"
      }
    },
    {
      "cell_type": "code",
      "source": [
        "# @title Example form fields\n",
        "# @markdown Forms support many types of fields.\n",
        "\n",
        "number1 = 1  # @param {type: \"number\"}\n",
        "number2 = 1  # @param {type: \"number\"}\n",
        "number3 = 1  # @param {type: \"number\"}\n",
        "# @markdown ---\n"
      ],
      "metadata": {
        "id": "Ro6cigfo0EGI"
      },
      "execution_count": null,
      "outputs": []
    },
    {
      "cell_type": "code",
      "execution_count": 2,
      "metadata": {
        "colab": {
          "base_uri": "https://localhost:8080/"
        },
        "id": "cGapOLh7web6",
        "outputId": "f74cbbd0-efac-46d1-b565-6ea996799df7"
      },
      "outputs": [
        {
          "output_type": "stream",
          "name": "stdout",
          "text": [
            "정삼각형 아님\n"
          ]
        }
      ],
      "source": [
        "a = 6\n",
        "b = 5\n",
        "c = 13\n",
        "\n",
        "if a == b == c : print(\"정삼각형\")\n",
        "else : (print(\"정삼각형 아님\"))"
      ]
    }
  ]
}